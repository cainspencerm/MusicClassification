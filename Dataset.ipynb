{
 "cells": [
  {
   "cell_type": "markdown",
   "id": "725d85c6-a815-4450-a808-951c1e7aa1f8",
   "metadata": {},
   "source": [
    "# Creating the Dataset\n",
    "\n",
    "The intention of this notebook is to recreate the [GTZAN](https://www.kaggle.com/andradaolteanu/gtzan-dataset-music-genre-classification) dataset from audio samples, not to add more to the feature csv. While researching the context of music genre classification, I found an [article](https://stackoverflow.com/questions/60492462/mfcc-python-completely-different-result-from-librosa-vs-python-speech-features) that shows the MFCC features are computed differently depending on which Python package is used. With no knowledge of which package GTZAN used, it is important to use the newly created csv exclusively.\n",
    "\n",
    "## Important Information\n",
    "* `Chroma Short Term Fourier Transform (STFT)` - \"In Western music, the term chroma feature or chromagram closely relates to the twelve different pitch classes. Chroma-based features, which are also referred to as \"pitch class profiles\", are a powerful tool for analyzing music whose pitches can be meaningfully categorized (often into twelve categories) and whose tuning approximates to the equal-tempered scale. One main property of chroma features is that they capture harmonic and melodic characteristics of music, while being robust to changes in timbre and instrumentation.\" [Wikipedia](https://en.wikipedia.org/wiki/Chroma_feature)\n",
    "* `RMS` - \"Literally speaking, RMS stands for Root Mean Square, and it’s a mathematical term that is used in several forms of audio technology to represent the average power output over a prolonged period of time.\" [Greatest Speakers](https://greatestspeakers.com/rms-mean-important/)\n",
    "* `Spectral Centroid` - \"The spectral centroid is a measure used in digital signal processing to characterise a spectrum. It indicates where the center of mass of the spectrum is located. Perceptually, it has a robust connection with the impression of brightness of a sound.\" [Wikipedia](https://en.wikipedia.org/wiki/Spectral_centroid)\n",
    "* `Spectral Bandwidth` - \"It is the Wavelength interval in which a radiated spectral quantity is not less than half its maximum value. It is a measure of the extent of the Spectrum For a Light Source typical spectral widths are 20 to 60 NM for a LED and 2 to 5 nm for a Laser diode.\" [Timbercon](https://www.timbercon.com/resources/glossary/spectral-bandwidth/)\n",
    "* `Rolloff` - \"Specifically rolloff refers to the action of a specific type of filter; one designed to roll off frequencies above or below a certain point. It is called roll off because the process is gradual. Hi pass and low pass filters both roll off frequencies outside of their range, but they don’t immediately eliminate all frequencies outside their range. The sound is gently (or not so gently) “rolled off” with frequencies further above or below the cutoff frequency becoming more and more attenuated. Rolloff steepness is generally stated in dB per Octave, with higher numbers indicating a steeper filter.\" [Sweetwater](https://www.sweetwater.com/insync/rolloff/)\n",
    "* `Zero-Crossing Rate` - \"The Zero-Crossing Rate (ZCR) of an audio frame is the rate of sign-changes of the signal during the frame. In other words, it is the number of times the signal changes value, from positive to negative and vice versa, divided by the length of the frame.\" [ScienceDirect](https://www.sciencedirect.com/topics/engineering/zero-crossing-rate)\n",
    "* `Harmony` - Uncertain what this refers to. However, [Wikipedia](https://en.wikipedia.org/wiki/Harmony) suggests that a way to measure harmony is to measure consonance or, inversely, dissonance. These values are unpacked from Librosa's [hpss](https://librosa.org/doc/latest/generated/librosa.effects.hpss.html) effect.\n",
    "* `Perceptr` - Short for \"Perceptrual\" according to [this](https://www.kaggle.com/andradaolteanu/work-w-audio-data-visualise-classify-recommend#Introduction) notebook. However, the documentation on hpss indicates that this should be \"Percussion\" for the percussive components of audio.\n",
    "* `Tempo` - Beats per minute.\n",
    "* `MFCC` - \"A representation of the short-term power spectrum of a sound, based on a linear cosine transform of a log power spectrum on a nonlinear mel scale of frequency... The difference between the cepstrum and the mel-frequency cepstrum is that in the MFC, the frequency bands are equally spaced on the mel scale, which approximates the human auditory system's response more closely than the linearly-spaced frequency bands used in the normal spectrum. This frequency warping can allow for better representation of sound, for example, in audio compression.\" [Wikipedia](https://en.wikipedia.org/wiki/Mel-frequency_cepstrum)"
   ]
  },
  {
   "cell_type": "code",
   "execution_count": 2,
   "id": "db68be51-a1d0-4338-84a8-1b0e25f193e8",
   "metadata": {},
   "outputs": [
    {
     "name": "stdout",
     "output_type": "stream",
     "text": [
      "['pop', 'metal', 'disco', 'blues', 'reggae', 'classical', 'rock', 'hiphop', 'country', 'jazz']\n"
     ]
    }
   ],
   "source": [
    "import os\n",
    "\n",
    "genres_path = os.path.join('Data', 'genres_original')\n",
    "print(list(os.listdir(genres_path)))"
   ]
  },
  {
   "cell_type": "code",
   "execution_count": 4,
   "id": "ffb71a5d-2efb-4686-9121-bb8b0d2366a8",
   "metadata": {},
   "outputs": [
    {
     "ename": "ModuleNotFoundError",
     "evalue": "No module named 'librosa'",
     "output_type": "error",
     "traceback": [
      "\u001b[0;31m---------------------------------------------------------------------------\u001b[0m",
      "\u001b[0;31mModuleNotFoundError\u001b[0m                       Traceback (most recent call last)",
      "\u001b[0;32m/var/folders/b3/m2bff42x7sn41lvk_n0965vr0000gn/T/ipykernel_43928/319908035.py\u001b[0m in \u001b[0;36m<module>\u001b[0;34m\u001b[0m\n\u001b[0;32m----> 1\u001b[0;31m \u001b[0;32mimport\u001b[0m \u001b[0mlibrosa\u001b[0m\u001b[0;34m\u001b[0m\u001b[0;34m\u001b[0m\u001b[0m\n\u001b[0m\u001b[1;32m      2\u001b[0m \u001b[0;34m\u001b[0m\u001b[0m\n\u001b[1;32m      3\u001b[0m \u001b[0msample_path\u001b[0m \u001b[0;34m=\u001b[0m \u001b[0mos\u001b[0m\u001b[0;34m.\u001b[0m\u001b[0mpath\u001b[0m\u001b[0;34m.\u001b[0m\u001b[0mjoin\u001b[0m\u001b[0;34m(\u001b[0m\u001b[0mgenres_path\u001b[0m\u001b[0;34m,\u001b[0m \u001b[0;34m'reggae'\u001b[0m\u001b[0;34m,\u001b[0m \u001b[0;34m'reggae.00036.wav'\u001b[0m\u001b[0;34m)\u001b[0m\u001b[0;34m\u001b[0m\u001b[0;34m\u001b[0m\u001b[0m\n\u001b[1;32m      4\u001b[0m \u001b[0my\u001b[0m\u001b[0;34m,\u001b[0m \u001b[0msr\u001b[0m \u001b[0;34m=\u001b[0m \u001b[0mlibrosa\u001b[0m\u001b[0;34m.\u001b[0m\u001b[0mload\u001b[0m\u001b[0;34m(\u001b[0m\u001b[0msample_path\u001b[0m\u001b[0;34m)\u001b[0m\u001b[0;34m\u001b[0m\u001b[0;34m\u001b[0m\u001b[0m\n",
      "\u001b[0;31mModuleNotFoundError\u001b[0m: No module named 'librosa'"
     ]
    }
   ],
   "source": [
    "import librosa\n",
    "\n",
    "sample_path = os.path.join(genres_path, 'reggae', 'reggae.00036.wav')\n",
    "y, sr = librosa.load(sample_path)"
   ]
  },
  {
   "cell_type": "code",
   "execution_count": null,
   "id": "b60f8c5c-b7ec-453e-852c-987a1f584539",
   "metadata": {},
   "outputs": [],
   "source": []
  }
 ],
 "metadata": {
  "kernelspec": {
   "display_name": "Python 3 (ipykernel)",
   "language": "python",
   "name": "python3"
  },
  "language_info": {
   "codemirror_mode": {
    "name": "ipython",
    "version": 3
   },
   "file_extension": ".py",
   "mimetype": "text/x-python",
   "name": "python",
   "nbconvert_exporter": "python",
   "pygments_lexer": "ipython3",
   "version": "3.10.1"
  }
 },
 "nbformat": 4,
 "nbformat_minor": 5
}
